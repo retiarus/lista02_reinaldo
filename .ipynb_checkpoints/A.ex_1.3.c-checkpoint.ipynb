{
 "cells": [
  {
   "cell_type": "code",
   "execution_count": 1,
   "metadata": {
    "collapsed": true
   },
   "outputs": [],
   "source": [
    "from scipy.stats import moment\n",
    "from scipy.stats import kurtosis, skew, scoreatpercentile\n",
    "from scipy.stats import norm, lognorm, beta\n",
    "from scipy.optimize import minimize\n",
    "\n",
    "from numpy import zeros, fromiter, savetxt, loadtxt\n",
    "from IPython.display import Image\n",
    "\n",
    "import subprocess\n",
    "\n",
    "import numpy as np\n",
    "import pandas as pd\n",
    "import matplotlib.pyplot as plt\n",
    "import seaborn as sns\n",
    "\n",
    "import auxiliar_matcomp as aux\n",
    "\n",
    "#%matplotlib inline\n",
    "\n",
    "size = 2**12\n",
    "t = fromiter((i for i in range(0,size)), int, size)"
   ]
  },
  {
   "cell_type": "markdown",
   "metadata": {},
   "source": [
    "# <center>Turbulência</center>\n",
    "* [Série Completa](#sc)\n",
    "* [Primeiros 1024  pontos](#first)\n",
    "* [Últimos 1024 pontos](#last)"
   ]
  },
  {
   "cell_type": "markdown",
   "metadata": {},
   "source": [
    "<a id='sc'></a>\n",
    "## <center>Série Completa</center>\n",
    "* [Geração e plot](#genplot)\n",
    "* [Cálculo dos momentos estatísticos](#calcstats)\n",
    "* [Distribuição Normal fitada](#fitnormdist)\n",
    "* [Distribuição Lognormal fitada](#fitlognormdist)\n",
    "* [Plot do espaço de Cullen-Frey](#cullenfrey)\n",
    "* [Fitting da melhor distribuição segundo método de Cullen-Frey](#fitbestdist)\n",
    "* [Plot da função de autocorrelação](#autocorre)\n",
    "* [Plot do PSD e DFS](#psddfa)"
   ]
  },
  {
   "cell_type": "markdown",
   "metadata": {},
   "source": [
    "<a id='genplot'></a>\n",
    "### <center>Gerando série temporal e plotando resultado</center>"
   ]
  },
  {
   "cell_type": "code",
   "execution_count": 2,
   "metadata": {
    "collapsed": true
   },
   "outputs": [],
   "source": [
    "name = \"A.ex:1.3.c\"\n",
    "\n",
    "A = loadtxt(\"noise_equals_1_67.txt\")\n",
    "    \n",
    "savetxt(name + \".txt\", A)\n",
    "\n",
    "save_A = A"
   ]
  },
  {
   "cell_type": "code",
   "execution_count": 3,
   "metadata": {},
   "outputs": [
    {
     "data": {
      "image/png": "[encoded data removed]",
      "text/plain": [
       "<matplotlib.figure.Figure at 0x7f4ab008f390>"
      ]
     },
     "metadata": {},
     "output_type": "display_data"
    }
   ],
   "source": [
    "num_points = 128\n",
    "plt.plot(t[0:num_points], A[0:num_points])\n",
    "plt.show()"
   ]
  },
  {
   "cell_type": "markdown",
   "metadata": {},
   "source": [
    "<a id='calcstats'></a>\n",
    "### <center>Calculando os momentos do ensemble</center>"
   ]
  },
  {
   "cell_type": "code",
   "execution_count": 4,
   "metadata": {},
   "outputs": [
    {
     "name": "stdout",
     "output_type": "stream",
     "text": [
      "mean :  0.000244136962891\n",
      "var  :  1.3199607963e-07\n",
      "skew :  -0.352073944946\n",
      "kurt :  0.42935810211\n"
     ]
    },
    {
     "ename": "NameError",
     "evalue": "name 'scoreatpercentile' is not defined",
     "output_type": "error",
     "traceback": [
      "\u001b[0;31m---------------------------------------------------------------------------\u001b[0m",
      "\u001b[0;31mNameError\u001b[0m                                 Traceback (most recent call last)",
      "\u001b[0;32m<ipython-input-4-4fe13684d5f6>\u001b[0m in \u001b[0;36m<module>\u001b[0;34m()\u001b[0m\n\u001b[1;32m      6\u001b[0m \u001b[0mprint\u001b[0m\u001b[0;34m(\u001b[0m\u001b[0;34m\"kurt : \"\u001b[0m\u001b[0;34m,\u001b[0m \u001b[0mA_kurtosis\u001b[0m\u001b[0;34m)\u001b[0m\u001b[0;34m\u001b[0m\u001b[0m\n\u001b[1;32m      7\u001b[0m \u001b[0;34m\u001b[0m\u001b[0m\n\u001b[0;32m----> 8\u001b[0;31m \u001b[0mA_Q1\u001b[0m \u001b[0;34m=\u001b[0m \u001b[0mscoreatpercentile\u001b[0m\u001b[0;34m(\u001b[0m\u001b[0mA\u001b[0m\u001b[0;34m,\u001b[0m \u001b[0;36m25\u001b[0m\u001b[0;34m)\u001b[0m\u001b[0;34m\u001b[0m\u001b[0m\n\u001b[0m\u001b[1;32m      9\u001b[0m \u001b[0mA_Q3\u001b[0m \u001b[0;34m=\u001b[0m \u001b[0mscoreatpercentile\u001b[0m\u001b[0;34m(\u001b[0m\u001b[0mA\u001b[0m\u001b[0;34m,\u001b[0m \u001b[0;36m75\u001b[0m\u001b[0;34m)\u001b[0m\u001b[0;34m\u001b[0m\u001b[0m\n\u001b[1;32m     10\u001b[0m \u001b[0;34m\u001b[0m\u001b[0m\n",
      "\u001b[0;31mNameError\u001b[0m: name 'scoreatpercentile' is not defined"
     ]
    }
   ],
   "source": [
    "A_mean, A_var, A_skew, A_kurtosis = aux.calcMoments(A)\n",
    "\n",
    "print(\"mean : \", A_mean)\n",
    "print(\"var  : \", A_var)\n",
    "print(\"skew : \", A_skew)\n",
    "print(\"kurt : \", A_kurtosis)\n",
    "\n",
    "A_Q1 = scoreatpercentile(A, 25)\n",
    "A_Q3 = scoreatpercentile(A, 75)\n",
    "\n",
    "print(\"Q1   : \", A_Q1)\n",
    "print(\"Q3   : \", A_Q3)"
   ]
  },
  {
   "cell_type": "markdown",
   "metadata": {},
   "source": [
    "<a id='fitnormdis'></a>\n",
    "### <center>Fitando uma distribuição normal</center>"
   ]
  },
  {
   "cell_type": "code",
   "execution_count": null,
   "metadata": {
    "scrolled": true
   },
   "outputs": [],
   "source": [
    "aux.fitting_normal_distribution(A)"
   ]
  },
  {
   "cell_type": "markdown",
   "metadata": {},
   "source": [
    "<a id='fitlognormdist'></a>\n",
    "### <center>Fitando uma distribuição lognormal</center>"
   ]
  },
  {
   "cell_type": "code",
   "execution_count": null,
   "metadata": {},
   "outputs": [],
   "source": [
    "aux.fitting_lognormal_and_mlp_distribution(A)"
   ]
  },
  {
   "cell_type": "markdown",
   "metadata": {},
   "source": [
    "### Fitando uma distribuição lognormal (utlizando minha implementação)"
   ]
  },
  {
   "cell_type": "code",
   "execution_count": null,
   "metadata": {},
   "outputs": [],
   "source": [
    "aux.fitting_lognormal_distribution(A)"
   ]
  },
  {
   "cell_type": "markdown",
   "metadata": {},
   "source": [
    "<a id='cullenfrey'></a>\n",
    "### <center>Plotando dados no espaço de Cullen-Frey</center>"
   ]
  },
  {
   "cell_type": "code",
   "execution_count": null,
   "metadata": {},
   "outputs": [],
   "source": [
    "command = 'Rscript'\n",
    "path_script = 'cullen_frey_script.R'\n",
    "\n",
    "# define arguments\n",
    "args = [name,]\n",
    "\n",
    "# build subprocess command\n",
    "cmd = [command, path_script] + args\n",
    "\n",
    "x = subprocess.check_output(cmd, universal_newlines=True)\n",
    "print(x)\n",
    "\n",
    "Image(name+\".png\")"
   ]
  },
  {
   "cell_type": "markdown",
   "metadata": {},
   "source": [
    "<a id='fitbestdis'></a>\n",
    "### <center>Fitando melhor distribuição segundo método de Cullen-Frey</center>"
   ]
  },
  {
   "cell_type": "code",
   "execution_count": null,
   "metadata": {},
   "outputs": [],
   "source": [
    "aux.fitting_beta_distribution(A)"
   ]
  },
  {
   "cell_type": "markdown",
   "metadata": {},
   "source": [
    "<a id='autocorre'></a>\n",
    "### <center>Calculando autocorrelação</center>"
   ]
  },
  {
   "cell_type": "code",
   "execution_count": null,
   "metadata": {},
   "outputs": [],
   "source": [
    "aux.plot_estimated_autocorrelation(t, A, 0, len(A))"
   ]
  },
  {
   "cell_type": "markdown",
   "metadata": {},
   "source": [
    "<a id='psddfa'></a>\n",
    "### <center>Plotando DFA e PSD</center>"
   ]
  },
  {
   "cell_type": "code",
   "execution_count": null,
   "metadata": {},
   "outputs": [],
   "source": [
    "aux.plot_psd_dfa(A, 'Turbulência')"
   ]
  },
  {
   "cell_type": "markdown",
   "metadata": {},
   "source": [
    "<a id='first'></a>\n",
    "## <center>Analise dos primeiros 1024 pontos</center>\n",
    "* [Cálculo dos momentos estatísticos](#calcstatsfirst)\n",
    "* [Distribuição Normal fitada](#fitnormdistfirst)\n",
    "* [Distribuição Lognormal fitada](#fitlognormdistfirst)\n",
    "* [Plot do espaço de Cullen-Frey](#cullenfreyfirst)\n",
    "* [Fitting da melhor distribuição segundo método de Cullen-Frey](#fitbestdistfirst)\n",
    "* [Plot da função de autocorrelação](#autocorrefirst)\n",
    "* [Plot do PSD e DFS](#psddfafirst)"
   ]
  },
  {
   "cell_type": "code",
   "execution_count": null,
   "metadata": {
    "collapsed": true
   },
   "outputs": [],
   "source": [
    "A = save_A[1024:]\n",
    "name = \"A.ex:1.3.c\"\n",
    "savetxt(name + \".txt\", A)"
   ]
  },
  {
   "cell_type": "markdown",
   "metadata": {},
   "source": [
    "<a id='calcstatsfirst'></a>\n",
    "### <center>Calculando os momentos do ensemble</center>"
   ]
  },
  {
   "cell_type": "code",
   "execution_count": null,
   "metadata": {},
   "outputs": [],
   "source": [
    "A_mean, A_var, A_skew, A_kurtosis = aux.calcMoments(A)\n",
    "\n",
    "print(\"mean : \", A_mean)\n",
    "print(\"var  : \", A_var)\n",
    "print(\"skew : \", A_skew)\n",
    "print(\"kurt : \", A_kurtosis)\n",
    "\n",
    "A_Q1 = scoreatpercentile(A, 25)\n",
    "A_Q3 = scoreatpercentile(A, 75)\n",
    "\n",
    "print(\"Q1   : \", A_Q1)\n",
    "print(\"Q3   : \", A_Q3)"
   ]
  },
  {
   "cell_type": "markdown",
   "metadata": {},
   "source": [
    "<a id='fitnormdistfist'></a>\n",
    "### <center>Fitando uma distribuição normal</center>"
   ]
  },
  {
   "cell_type": "code",
   "execution_count": null,
   "metadata": {
    "scrolled": true
   },
   "outputs": [],
   "source": [
    "aux.fitting_normal_distribution(A)"
   ]
  },
  {
   "cell_type": "markdown",
   "metadata": {},
   "source": [
    "<a id='fitlognormdistfirst'></a>\n",
    "### <center>Fitando uma distribuição lognormal</center>"
   ]
  },
  {
   "cell_type": "code",
   "execution_count": null,
   "metadata": {},
   "outputs": [],
   "source": [
    "aux.fitting_lognormal_and_mlp_distribution(A)"
   ]
  },
  {
   "cell_type": "markdown",
   "metadata": {},
   "source": [
    "### Fitando uma distribuição lognormal (utlizando minha implementação)"
   ]
  },
  {
   "cell_type": "code",
   "execution_count": null,
   "metadata": {},
   "outputs": [],
   "source": [
    "aux.fitting_lognormal_distribution(A)"
   ]
  },
  {
   "cell_type": "markdown",
   "metadata": {},
   "source": [
    "<a id='cullenfreyfirst'></a>\n",
    "### <center>Plotando dados no espaço de Cullen-Frey</center>"
   ]
  },
  {
   "cell_type": "code",
   "execution_count": null,
   "metadata": {},
   "outputs": [],
   "source": [
    "command = 'Rscript'\n",
    "path_script = 'cullen_frey_script.R'\n",
    "\n",
    "# define arguments\n",
    "args = [name,]\n",
    "\n",
    "# build subprocess command\n",
    "cmd = [command, path_script] + args\n",
    "\n",
    "x = subprocess.check_output(cmd, universal_newlines=True)\n",
    "print(x)\n",
    "\n",
    "\n",
    "Image(name+\".png\")"
   ]
  },
  {
   "cell_type": "markdown",
   "metadata": {},
   "source": [
    "<a id='fitbestdistfirst'></a>\n",
    "### <center>Fitando melhor distribuição segundo método de Cullen-Frey</center>"
   ]
  },
  {
   "cell_type": "code",
   "execution_count": null,
   "metadata": {},
   "outputs": [],
   "source": [
    "aux.fitting_beta_distribution(A)"
   ]
  },
  {
   "cell_type": "markdown",
   "metadata": {},
   "source": [
    "<a id='autocorrefirst'></a>\n",
    "### <center>Calculando autocorrelação</center>"
   ]
  },
  {
   "cell_type": "code",
   "execution_count": null,
   "metadata": {},
   "outputs": [],
   "source": [
    "aux.plot_estimated_autocorrelation(t, A, 0, len(A))"
   ]
  },
  {
   "cell_type": "markdown",
   "metadata": {},
   "source": [
    "<a id='psddfafirst'></a>\n",
    "### <center>Plotando DFA e PSD</center>"
   ]
  },
  {
   "cell_type": "code",
   "execution_count": null,
   "metadata": {},
   "outputs": [],
   "source": [
    "aux.plot_psd_dfa(A, 'Turbulência, primeiros 1024 pontos')"
   ]
  },
  {
   "cell_type": "markdown",
   "metadata": {},
   "source": [
    "<a id='last'></a>\n",
    "## <center>Analise dos últimos 1024 pontos</center>\n",
    "* [Cálculo dos momentos estatísticos](#calcstatslast)\n",
    "* [Distribuição Normal fitada](#fitnormdistlast)\n",
    "* [Distribuição Lognormal fitada](#fitlognormdistlast)\n",
    "* [Plot do espaço de Cullen-Frey](#cullenfreylast)\n",
    "* [Fitting da melhor distribuição segundo método de Cullen-Frey](#fitbestdistlast)\n",
    "* [Plot da função de autocorrelação](#autocorrelast)\n",
    "* [Plot do PSD e DFS](#psddfalast)"
   ]
  },
  {
   "cell_type": "code",
   "execution_count": null,
   "metadata": {
    "collapsed": true
   },
   "outputs": [],
   "source": [
    "A = save_A[3*1024:4096]\n",
    "name = \"A.ex:1.3.c\"\n",
    "savetxt(name + \".txt\", A)"
   ]
  },
  {
   "cell_type": "code",
   "execution_count": null,
   "metadata": {},
   "outputs": [],
   "source": [
    "A.shape"
   ]
  },
  {
   "cell_type": "markdown",
   "metadata": {},
   "source": [
    "<a id='calcstatslast'></a>\n",
    "### <center>Calculando os momentos do ensemble</center>"
   ]
  },
  {
   "cell_type": "code",
   "execution_count": null,
   "metadata": {},
   "outputs": [],
   "source": [
    "A_mean, A_var, A_skew, A_kurtosis = aux.calcMoments(A)\n",
    "\n",
    "print(\"mean : \", A_mean)\n",
    "print(\"var  : \", A_var)\n",
    "print(\"skew : \", A_skew)\n",
    "print(\"kurt : \", A_kurtosis)\n",
    "\n",
    "A_Q1 = scoreatpercentile(A, 25)\n",
    "A_Q3 = scoreatpercentile(A, 75)\n",
    "\n",
    "print(\"Q1   : \", A_Q1)\n",
    "print(\"Q3   : \", A_Q3)"
   ]
  },
  {
   "cell_type": "markdown",
   "metadata": {},
   "source": [
    "<a id='fitnormdistlast'></a>\n",
    "### <center>Fitando uma distribuição normal</center>"
   ]
  },
  {
   "cell_type": "code",
   "execution_count": null,
   "metadata": {
    "scrolled": true
   },
   "outputs": [],
   "source": [
    "aux.fitting_normal_distribution(A)"
   ]
  },
  {
   "cell_type": "markdown",
   "metadata": {},
   "source": [
    "<a id='fitlognormdistlast'></a>\n",
    "### <center>Fitando uma distribuição lognormal</center>"
   ]
  },
  {
   "cell_type": "code",
   "execution_count": null,
   "metadata": {},
   "outputs": [],
   "source": [
    "aux.fitting_lognormal_and_mlp_distribution(A)"
   ]
  },
  {
   "cell_type": "markdown",
   "metadata": {},
   "source": [
    "### Fitando uma distribuição lognormal (utlizando minha implementação)"
   ]
  },
  {
   "cell_type": "code",
   "execution_count": null,
   "metadata": {},
   "outputs": [],
   "source": [
    "aux.fitting_lognormal_distribution(A)"
   ]
  },
  {
   "cell_type": "markdown",
   "metadata": {},
   "source": [
    "<a id='cullenfreylast'></a>\n",
    "### <center>Plotando dados no espaço de Cullen-Frey</center>"
   ]
  },
  {
   "cell_type": "code",
   "execution_count": null,
   "metadata": {},
   "outputs": [],
   "source": [
    "command = 'Rscript'\n",
    "path_script = 'cullen_frey_script.R'\n",
    "\n",
    "# define arguments\n",
    "args = [name,]\n",
    "\n",
    "# build subprocess command\n",
    "cmd = [command, path_script] + args\n",
    "\n",
    "x = subprocess.check_output(cmd, universal_newlines=True)\n",
    "print(x)\n",
    "\n",
    "\n",
    "Image(name+\".png\")"
   ]
  },
  {
   "cell_type": "markdown",
   "metadata": {},
   "source": [
    "<a id='fitbestdistlast'></a>\n",
    "### <center>Fitando melhor distribuição segundo método de Cullen-Frey</center>"
   ]
  },
  {
   "cell_type": "code",
   "execution_count": null,
   "metadata": {},
   "outputs": [],
   "source": [
    "aux.fitting_beta_distribution(A)"
   ]
  },
  {
   "cell_type": "markdown",
   "metadata": {},
   "source": [
    "<a id='autocorrelast'></a>\n",
    "### <center>Calculando autocorrelação</center>"
   ]
  },
  {
   "cell_type": "code",
   "execution_count": null,
   "metadata": {},
   "outputs": [],
   "source": [
    "aux.plot_estimated_autocorrelation(t, A, 0, len(A))"
   ]
  },
  {
   "cell_type": "markdown",
   "metadata": {},
   "source": [
    "<a id='psddfalast'></a>\n",
    "### <center>Plotando DFA e PSD</center>"
   ]
  },
  {
   "cell_type": "code",
   "execution_count": null,
   "metadata": {
    "scrolled": false
   },
   "outputs": [],
   "source": [
    "aux.plot_psd_dfa(A, 'Turbulência, últimos 1024 pontos')"
   ]
  }
 ],
 "metadata": {
  "kernelspec": {
   "display_name": "Python 3",
   "language": "python",
   "name": "python3"
  },
  "language_info": {
   "codemirror_mode": {
    "name": "ipython",
    "version": 3
   },
   "file_extension": ".py",
   "mimetype": "text/x-python",
   "name": "python",
   "nbconvert_exporter": "python",
   "pygments_lexer": "ipython3",
   "version": "3.4.8"
  }
 },
 "nbformat": 4,
 "nbformat_minor": 2
}
