{
 "cells": [
  {
   "cell_type": "code",
   "execution_count": 1,
   "metadata": {},
   "outputs": [
    {
     "data": {
      "text/html": [
       "<script>requirejs.config({paths: { 'plotly': ['https://cdn.plot.ly/plotly-latest.min']},});if(!window.Plotly) {{require(['plotly'],function(plotly) {window.Plotly=plotly;});}}</script>"
      ],
      "text/vnd.plotly.v1+html": [
       "<script>requirejs.config({paths: { 'plotly': ['https://cdn.plot.ly/plotly-latest.min']},});if(!window.Plotly) {{require(['plotly'],function(plotly) {window.Plotly=plotly;});}}</script>"
      ]
     },
     "metadata": {},
     "output_type": "display_data"
    }
   ],
   "source": [
    "import numpy as np\n",
    "import pandas as pd\n",
    "import matplotlib.pyplot as plt\n",
    "\n",
    "import plotly.plotly as py\n",
    "from plotly.offline import download_plotlyjs, init_notebook_mode, plot, iplot\n",
    "import cufflinks as cf\n",
    "init_notebook_mode(connected=True)"
   ]
  },
  {
   "cell_type": "code",
   "execution_count": 2,
   "metadata": {
    "collapsed": true
   },
   "outputs": [],
   "source": [
    "mu = 1\n",
    "n = 50\n",
    "dt = 0.1\n",
    "x0 = 100\n",
    "x = pd.DataFrame()\n",
    "np.random.seed(1)"
   ]
  },
  {
   "cell_type": "code",
   "execution_count": 3,
   "metadata": {
    "collapsed": true
   },
   "outputs": [],
   "source": [
    "for sigma in np.arange(0.8, 2.0, 0.2):\n",
    "    step = np.exp((mu-sigma**2/2.0)*dt)*np.exp(sigma*np.random.normal(0, np.sqrt(dt), (1, n)))\n",
    "    temp = pd.DataFrame(x0*step.cumprod())\n",
    "    x = pd.concat([x, temp], axis=1)"
   ]
  },
  {
   "cell_type": "code",
   "execution_count": 4,
   "metadata": {},
   "outputs": [
    {
     "data": {
      "image/png": "[encoded data removed]",
      "text/plain": [
       "<matplotlib.figure.Figure at 0x7f0b5858e5f8>"
      ]
     },
     "metadata": {},
     "output_type": "display_data"
    }
   ],
   "source": [
    "x.columns = np.arange(0.8, 2.0 ,0.2)\n",
    "plt.plot(x)\n",
    "plt.legend(x.columns)\n",
    "plt.xlabel('t')\n",
    "plt.ylabel('X')\n",
    "plt.title('Realizations of Geometric Brownian Motion with different variances\\n mu=1')\n",
    "plt.show()"
   ]
  },
  {
   "cell_type": "code",
   "execution_count": 5,
   "metadata": {},
   "outputs": [
    {
     "data": {
      "application/vnd.plotly.v1+json": {
       "data": [
        {
         "line": {
          "color": "rgba(255, 153, 51, 1.0)",
          "dash": "solid",
          "width": 1.3
         },
         "mode": "lines",
         "name": "0.8",
         "text": "",
         "type": "scatter",
         "x": [
          0,
          1,
          2,
          3,
          4,
          5,
          6,
          7,
          8,
          9,
          10,
          11,
          12,
          13,
          14,
          15,
          16,
          17,
          18,
          19,
          20,
          21,
          22,
          23,
          24,
          25,
          26,
          27,
          28,
          29,
          30,
          31,
          32,
          33,
          34,
          35,
          36,
          37,
          38,
          39,
          40,
          41,
          42,
          43,
          44,
          45,
          46,
          47,
          48,
          49
         ],
         "y": [
          161.43469094814898,
          148.01848716392868,
          138.61760800914888,
          113.10053848906041,
          150.6877599961432,
          90.10372700164216,
          149.95989174595238,
          132.39581891123174,
          153.62388044534728,
          154.38060445421232,
          239.20198299760446,
          152.03782776667188,
          149.98923712914836,
          145.67886124509621,
          207.7277069561007,
          168.33822410055836,
          172.49252888990958,
          147.8608102038559,
          159.96430341766592,
          198.4213042007605,
          160.7669007120792,
          229.8783443526329,
          309.09128282249895,
          375.6879117233028,
          505.0509464213035,
          454.72294500571604,
          471.8208130927364,
          398.56327081700925,
          398.6545844805451,
          487.97581170646964,
          438.4684989186024,
          424.5018593330742,
          381.8675862014205,
          330.05256249548876,
          298.10285875112936,
          318.0582914046786,
          256.6145177370806,
          291.45278783427904,
          474.7453036756252,
          613.084290383075,
          625.1373894218392,
          534.5456368618239,
          473.6171764182978,
          777.8706577989109,
          843.3767036405843,
          768.3652075257187,
          863.1283216214547,
          1571.6645575269606,
          1734.177717697232,
          2169.8863037125607
         ]
        },
        {
         "line": {
          "color": "rgba(55, 128, 191, 1.0)",
          "dash": "solid",
          "width": 1.3
         },
         "mode": "lines",
         "name": "1.0",
         "text": "",
         "type": "scatter",
         "x": [
          0,
          1,
          2,
          3,
          4,
          5,
          6,
          7,
          8,
          9,
          10,
          11,
          12,
          13,
          14,
          15,
          16,
          17,
          18,
          19,
          20,
          21,
          22,
          23,
          24,
          25,
          26,
          27,
          28,
          29,
          30,
          31,
          32,
          33,
          34,
          35,
          36,
          37,
          38,
          39,
          40,
          41,
          42,
          43,
          44,
          45,
          46,
          47,
          48,
          49
         ],
         "y": [
          115.59496219865886,
          108.71189237926806,
          79.63113951284677,
          74.95840409225583,
          73.76432331658911,
          93.35241425624207,
          127.95665615197049,
          180.5724195887289,
          207.77225578699534,
          288.97748217285823,
          239.31655971093963,
          373.8964513359861,
          462.2849806874192,
          442.26812283787905,
          542.6146030987917,
          556.9644640580444,
          837.4437290318543,
          1423.6259029255139,
          2987.2304825005567,
          2019.2694381271426,
          1344.5601037355893,
          1205.0737715438945,
          1332.62269446719,
          1848.2105335214892,
          2146.91177544804,
          1190.7153406582224,
          1136.239405375274,
          1552.0127141185724,
          1754.7299280951072,
          2347.3430022912326,
          2300.157777097299,
          2269.34772337985,
          2530.6807446283283,
          3028.77440809647,
          3390.1220693963446,
          3700.6177590386606,
          3146.899653175445,
          3727.783733528803,
          4072.8261821648734,
          6119.689286637033,
          9399.367952099325,
          10477.122264901413,
          9781.751194449856,
          8402.541645425976,
          10099.186847170864,
          10879.844917962268,
          10259.210708629185,
          10934.932097286175,
          9448.92485080701,
          12386.882792313972
         ]
        },
        {
         "line": {
          "color": "rgba(50, 171, 96, 1.0)",
          "dash": "solid",
          "width": 1.3
         },
         "mode": "lines",
         "name": "1.2",
         "text": "",
         "type": "scatter",
         "x": [
          0,
          1,
          2,
          3,
          4,
          5,
          6,
          7,
          8,
          9,
          10,
          11,
          12,
          13,
          14,
          15,
          16,
          17,
          18,
          19,
          20,
          21,
          22,
          23,
          24,
          25,
          26,
          27,
          28,
          29,
          30,
          31,
          32,
          33,
          34,
          35,
          36,
          37,
          38,
          39,
          40,
          41,
          42,
          43,
          44,
          45,
          46,
          47,
          48,
          49
         ],
         "y": [
          86.79047020644477,
          142.04797157509225,
          170.2519061470674,
          219.3187944070976,
          148.86450371932042,
          163.2548758833136,
          222.36808510723608,
          159.24280564574866,
          148.02886623021578,
          154.12803408005567,
          94.13427871790037,
          109.10566763914258,
          154.688316332803,
          114.80658731843589,
          134.86465353495467,
          84.29269170045937,
          85.42264708308515,
          47.5826764762794,
          74.88973677233963,
          89.94368027772819,
          91.63765076714868,
          70.22392530278955,
          117.10201288857411,
          254.0441548680096,
          129.0827336383512,
          212.20330745510282,
          404.71974761769343,
          473.17309211282543,
          308.7003440301368,
          440.53396996554784,
          422.983483292182,
          345.9040299577047,
          223.04802855217108,
          282.6760136957668,
          392.741041345957,
          318.7914703856463,
          399.4473719429252,
          266.0901061315272,
          370.9695054191734,
          388.30492140597926,
          372.03675765113786,
          368.11037170641293,
          526.4213461257867,
          719.7206323581283,
          904.8607732432595,
          980.4729186961897,
          1038.5347111565006,
          1350.4928483191459,
          1516.939898200167,
          2021.227759744206
         ]
        },
        {
         "line": {
          "color": "rgba(128, 0, 128, 1.0)",
          "dash": "solid",
          "width": 1.3
         },
         "mode": "lines",
         "name": "1.4",
         "text": "",
         "type": "scatter",
         "x": [
          0,
          1,
          2,
          3,
          4,
          5,
          6,
          7,
          8,
          9,
          10,
          11,
          12,
          13,
          14,
          15,
          16,
          17,
          18,
          19,
          20,
          21,
          22,
          23,
          24,
          25,
          26,
          27,
          28,
          29,
          30,
          31,
          32,
          33,
          34,
          35,
          36,
          37,
          38,
          39,
          40,
          41,
          42,
          43,
          44,
          45,
          46,
          47,
          48,
          49
         ],
         "y": [
          87.34585980564505,
          29.78267975417076,
          47.268034545404575,
          124.71753096629466,
          151.9348479005575,
          145.63612041619683,
          137.3736412151947,
          130.581425952384,
          131.85521432963924,
          80.3960940088982,
          64.07396490421391,
          41.290626987943654,
          46.190936951140294,
          40.58729036748805,
          50.63759939630281,
          46.962526986343974,
          72.82207867456995,
          80.20249914077709,
          211.96449613193641,
          91.73133381520722,
          69.02451927626775,
          103.08635690209947,
          316.3675148622102,
          283.9588266542246,
          290.0816219853242,
          262.9512758908981,
          475.0546945407451,
          419.1518775308732,
          567.5410509022046,
          493.6026690387008,
          281.559868768321,
          324.1345138721031,
          405.82742559666247,
          720.8733864668764,
          687.8470695795108,
          524.3968232068067,
          674.1102357420747,
          751.4258282697627,
          852.5469087330137,
          827.0456216912258,
          1385.1498976635216,
          1634.5863279449495,
          3806.149764250766,
          6237.02862075612,
          8366.851668513993,
          4078.7068999860608,
          5335.796200181678,
          6439.848260554711,
          9239.877130374001,
          14701.107255730823
         ]
        },
        {
         "line": {
          "color": "rgba(219, 64, 82, 1.0)",
          "dash": "solid",
          "width": 1.3
         },
         "mode": "lines",
         "name": "1.6",
         "text": "",
         "type": "scatter",
         "x": [
          0,
          1,
          2,
          3,
          4,
          5,
          6,
          7,
          8,
          9,
          10,
          11,
          12,
          13,
          14,
          15,
          16,
          17,
          18,
          19,
          20,
          21,
          22,
          23,
          24,
          25,
          26,
          27,
          28,
          29,
          30,
          31,
          32,
          33,
          34,
          35,
          36,
          37,
          38,
          39,
          40,
          41,
          42,
          43,
          44,
          45,
          46,
          47,
          48,
          49
         ],
         "y": [
          79.38743306081747,
          117.12685888539696,
          85.69127972735463,
          224.04565080912877,
          111.04434981906128,
          44.30439549626703,
          18.68792617292171,
          11.580101202185359,
          6.392053841285331,
          16.7226145936873,
          13.784776618137196,
          6.795214776088235,
          11.612206134291734,
          8.39214836282575,
          4.364452455911323,
          6.610346557343521,
          8.811301574717191,
          6.875487561711583,
          13.628016722594957,
          14.146235319058482,
          31.173472991984912,
          39.09272976365218,
          83.64960122005878,
          85.96932380134982,
          45.09824171601236,
          151.43199724007962,
          111.71984432679531,
          98.23764208800905,
          67.02145119990786,
          58.79767890761388,
          64.64330124434287,
          69.6166229747309,
          94.58095408948748,
          227.74450844591766,
          208.36130910846228,
          108.56601391379938,
          58.04087474664781,
          40.297901552442084,
          16.79726166090173,
          24.795237984921602,
          18.7383697213488,
          15.568131037418196,
          15.123788771405719,
          7.254548623869773,
          4.562328963566413,
          6.241454575889334,
          8.29930732385783,
          6.449114438287765,
          15.674090819565068,
          7.872358583652502
         ]
        },
        {
         "line": {
          "color": "rgba(0, 128, 128, 1.0)",
          "dash": "solid",
          "width": 1.3
         },
         "mode": "lines",
         "name": "1.8",
         "text": "",
         "type": "scatter",
         "x": [
          0,
          1,
          2,
          3,
          4,
          5,
          6,
          7,
          8,
          9,
          10,
          11,
          12,
          13,
          14,
          15,
          16,
          17,
          18,
          19,
          20,
          21,
          22,
          23,
          24,
          25,
          26,
          27,
          28,
          29,
          30,
          31,
          32,
          33,
          34,
          35,
          36,
          37,
          38,
          39,
          40,
          41,
          42,
          43,
          44,
          45,
          46,
          47,
          48,
          49
         ],
         "y": [
          77.23092991796304,
          63.650280893944625,
          12.20141445912179,
          34.55017513642864,
          40.002120192182055,
          20.745757284465142,
          62.67045657149411,
          82.20817948740708,
          98.66648942900295,
          65.64331869232402,
          65.54250466983103,
          25.848857377171385,
          38.19876496424483,
          29.01082849784993,
          29.428709983254887,
          54.827525092254135,
          60.59872278547982,
          66.13333330682019,
          72.75219440404611,
          45.04552094810711,
          68.13804928291907,
          154.16619218117015,
          223.17382324397798,
          347.1128252130059,
          198.00503843124022,
          113.56090832779661,
          47.00144373236787,
          89.0848301304018,
          72.45077358766454,
          151.06534432969158,
          90.98007757161399,
          66.66006686205886,
          66.1498741305168,
          105.04843839652045,
          102.207103324726,
          108.32928208659429,
          102.7792159468596,
          106.8515161926919,
          53.19339828909132,
          52.35245383039382,
          44.247381069047144,
          40.26373239772953,
          50.08361976549149,
          31.952333482680466,
          28.621048283650207,
          22.71171907585439,
          27.06965924258074,
          39.769997692108575,
          21.699195970710182,
          28.468017720376615
         ]
        }
       ],
       "layout": {
        "legend": {
         "bgcolor": "#F5F6F9",
         "font": {
          "color": "#4D5663"
         }
        },
        "paper_bgcolor": "#F5F6F9",
        "plot_bgcolor": "#F5F6F9",
        "titlefont": {
         "color": "#4D5663"
        },
        "xaxis1": {
         "gridcolor": "#E1E5ED",
         "showgrid": true,
         "tickfont": {
          "color": "#4D5663"
         },
         "title": "",
         "titlefont": {
          "color": "#4D5663"
         },
         "zerolinecolor": "#E1E5ED"
        },
        "yaxis1": {
         "gridcolor": "#E1E5ED",
         "showgrid": true,
         "tickfont": {
          "color": "#4D5663"
         },
         "title": "",
         "titlefont": {
          "color": "#4D5663"
         },
         "zerolinecolor": "#E1E5ED"
        }
       }
      },
      "text/html": [
       "<div id=\"d3ef2808-20f0-4161-b1db-dfce723efbdc\" style=\"height: 525px; width: 100%;\" class=\"plotly-graph-div\"></div><script type=\"text/javascript\">require([\"plotly\"], function(Plotly) { window.PLOTLYENV=window.PLOTLYENV || {};window.PLOTLYENV.BASE_URL=\"https://plot.ly\";Plotly.newPlot(\"d3ef2808-20f0-4161-b1db-dfce723efbdc\", [{\"type\": \"scatter\", \"y\": [161.43469094814898, 148.01848716392868, 138.61760800914888, 113.10053848906041, 150.6877599961432, 90.10372700164216, 149.95989174595238, 132.39581891123174, 153.62388044534728, 154.38060445421232, 239.20198299760446, 152.03782776667188, 149.98923712914836, 145.67886124509621, 207.7277069561007, 168.33822410055836, 172.49252888990958, 147.8608102038559, 159.96430341766592, 198.4213042007605, 160.7669007120792, 229.8783443526329, 309.09128282249895, 375.6879117233028, 505.0509464213035, 454.72294500571604, 471.8208130927364, 398.56327081700925, 398.6545844805451, 487.97581170646964, 438.4684989186024, 424.5018593330742, 381.8675862014205, 330.05256249548876, 298.10285875112936, 318.0582914046786, 256.6145177370806, 291.45278783427904, 474.7453036756252, 613.084290383075, 625.1373894218392, 534.5456368618239, 473.6171764182978, 777.8706577989109, 843.3767036405843, 768.3652075257187, 863.1283216214547, 1571.6645575269606, 1734.177717697232, 2169.8863037125607], \"x\": [0, 1, 2, 3, 4, 5, 6, 7, 8, 9, 10, 11, 12, 13, 14, 15, 16, 17, 18, 19, 20, 21, 22, 23, 24, 25, 26, 27, 28, 29, 30, 31, 32, 33, 34, 35, 36, 37, 38, 39, 40, 41, 42, 43, 44, 45, 46, 47, 48, 49], \"line\": {\"width\": 1.3, \"dash\": \"solid\", \"color\": \"rgba(255, 153, 51, 1.0)\"}, \"text\": \"\", \"name\": \"0.8\", \"mode\": \"lines\"}, {\"type\": \"scatter\", \"y\": [115.59496219865886, 108.71189237926806, 79.63113951284677, 74.95840409225583, 73.76432331658911, 93.35241425624207, 127.95665615197049, 180.5724195887289, 207.77225578699534, 288.97748217285823, 239.31655971093963, 373.8964513359861, 462.2849806874192, 442.26812283787905, 542.6146030987917, 556.9644640580444, 837.4437290318543, 1423.6259029255139, 2987.2304825005567, 2019.2694381271426, 1344.5601037355893, 1205.0737715438945, 1332.62269446719, 1848.2105335214892, 2146.91177544804, 1190.7153406582224, 1136.239405375274, 1552.0127141185724, 1754.7299280951072, 2347.3430022912326, 2300.157777097299, 2269.34772337985, 2530.6807446283283, 3028.77440809647, 3390.1220693963446, 3700.6177590386606, 3146.899653175445, 3727.783733528803, 4072.8261821648734, 6119.689286637033, 9399.367952099325, 10477.122264901413, 9781.751194449856, 8402.541645425976, 10099.186847170864, 10879.844917962268, 10259.210708629185, 10934.932097286175, 9448.92485080701, 12386.882792313972], \"x\": [0, 1, 2, 3, 4, 5, 6, 7, 8, 9, 10, 11, 12, 13, 14, 15, 16, 17, 18, 19, 20, 21, 22, 23, 24, 25, 26, 27, 28, 29, 30, 31, 32, 33, 34, 35, 36, 37, 38, 39, 40, 41, 42, 43, 44, 45, 46, 47, 48, 49], \"line\": {\"width\": 1.3, \"dash\": \"solid\", \"color\": \"rgba(55, 128, 191, 1.0)\"}, \"text\": \"\", \"name\": \"1.0\", \"mode\": \"lines\"}, {\"type\": \"scatter\", \"y\": [86.79047020644477, 142.04797157509225, 170.2519061470674, 219.3187944070976, 148.86450371932042, 163.2548758833136, 222.36808510723608, 159.24280564574866, 148.02886623021578, 154.12803408005567, 94.13427871790037, 109.10566763914258, 154.688316332803, 114.80658731843589, 134.86465353495467, 84.29269170045937, 85.42264708308515, 47.5826764762794, 74.88973677233963, 89.94368027772819, 91.63765076714868, 70.22392530278955, 117.10201288857411, 254.0441548680096, 129.0827336383512, 212.20330745510282, 404.71974761769343, 473.17309211282543, 308.7003440301368, 440.53396996554784, 422.983483292182, 345.9040299577047, 223.04802855217108, 282.6760136957668, 392.741041345957, 318.7914703856463, 399.4473719429252, 266.0901061315272, 370.9695054191734, 388.30492140597926, 372.03675765113786, 368.11037170641293, 526.4213461257867, 719.7206323581283, 904.8607732432595, 980.4729186961897, 1038.5347111565006, 1350.4928483191459, 1516.939898200167, 2021.227759744206], \"x\": [0, 1, 2, 3, 4, 5, 6, 7, 8, 9, 10, 11, 12, 13, 14, 15, 16, 17, 18, 19, 20, 21, 22, 23, 24, 25, 26, 27, 28, 29, 30, 31, 32, 33, 34, 35, 36, 37, 38, 39, 40, 41, 42, 43, 44, 45, 46, 47, 48, 49], \"line\": {\"width\": 1.3, \"dash\": \"solid\", \"color\": \"rgba(50, 171, 96, 1.0)\"}, \"text\": \"\", \"name\": \"1.2\", \"mode\": \"lines\"}, {\"type\": \"scatter\", \"y\": [87.34585980564505, 29.78267975417076, 47.268034545404575, 124.71753096629466, 151.9348479005575, 145.63612041619683, 137.3736412151947, 130.581425952384, 131.85521432963924, 80.3960940088982, 64.07396490421391, 41.290626987943654, 46.190936951140294, 40.58729036748805, 50.63759939630281, 46.962526986343974, 72.82207867456995, 80.20249914077709, 211.96449613193641, 91.73133381520722, 69.02451927626775, 103.08635690209947, 316.3675148622102, 283.9588266542246, 290.0816219853242, 262.9512758908981, 475.0546945407451, 419.1518775308732, 567.5410509022046, 493.6026690387008, 281.559868768321, 324.1345138721031, 405.82742559666247, 720.8733864668764, 687.8470695795108, 524.3968232068067, 674.1102357420747, 751.4258282697627, 852.5469087330137, 827.0456216912258, 1385.1498976635216, 1634.5863279449495, 3806.149764250766, 6237.02862075612, 8366.851668513993, 4078.7068999860608, 5335.796200181678, 6439.848260554711, 9239.877130374001, 14701.107255730823], \"x\": [0, 1, 2, 3, 4, 5, 6, 7, 8, 9, 10, 11, 12, 13, 14, 15, 16, 17, 18, 19, 20, 21, 22, 23, 24, 25, 26, 27, 28, 29, 30, 31, 32, 33, 34, 35, 36, 37, 38, 39, 40, 41, 42, 43, 44, 45, 46, 47, 48, 49], \"line\": {\"width\": 1.3, \"dash\": \"solid\", \"color\": \"rgba(128, 0, 128, 1.0)\"}, \"text\": \"\", \"name\": \"1.4\", \"mode\": \"lines\"}, {\"type\": \"scatter\", \"y\": [79.38743306081747, 117.12685888539696, 85.69127972735463, 224.04565080912877, 111.04434981906128, 44.30439549626703, 18.68792617292171, 11.580101202185359, 6.392053841285331, 16.7226145936873, 13.784776618137196, 6.795214776088235, 11.612206134291734, 8.39214836282575, 4.364452455911323, 6.610346557343521, 8.811301574717191, 6.875487561711583, 13.628016722594957, 14.146235319058482, 31.173472991984912, 39.09272976365218, 83.64960122005878, 85.96932380134982, 45.09824171601236, 151.43199724007962, 111.71984432679531, 98.23764208800905, 67.02145119990786, 58.79767890761388, 64.64330124434287, 69.6166229747309, 94.58095408948748, 227.74450844591766, 208.36130910846228, 108.56601391379938, 58.04087474664781, 40.297901552442084, 16.79726166090173, 24.795237984921602, 18.7383697213488, 15.568131037418196, 15.123788771405719, 7.254548623869773, 4.562328963566413, 6.241454575889334, 8.29930732385783, 6.449114438287765, 15.674090819565068, 7.872358583652502], \"x\": [0, 1, 2, 3, 4, 5, 6, 7, 8, 9, 10, 11, 12, 13, 14, 15, 16, 17, 18, 19, 20, 21, 22, 23, 24, 25, 26, 27, 28, 29, 30, 31, 32, 33, 34, 35, 36, 37, 38, 39, 40, 41, 42, 43, 44, 45, 46, 47, 48, 49], \"line\": {\"width\": 1.3, \"dash\": \"solid\", \"color\": \"rgba(219, 64, 82, 1.0)\"}, \"text\": \"\", \"name\": \"1.6\", \"mode\": \"lines\"}, {\"type\": \"scatter\", \"y\": [77.23092991796304, 63.650280893944625, 12.20141445912179, 34.55017513642864, 40.002120192182055, 20.745757284465142, 62.67045657149411, 82.20817948740708, 98.66648942900295, 65.64331869232402, 65.54250466983103, 25.848857377171385, 38.19876496424483, 29.01082849784993, 29.428709983254887, 54.827525092254135, 60.59872278547982, 66.13333330682019, 72.75219440404611, 45.04552094810711, 68.13804928291907, 154.16619218117015, 223.17382324397798, 347.1128252130059, 198.00503843124022, 113.56090832779661, 47.00144373236787, 89.0848301304018, 72.45077358766454, 151.06534432969158, 90.98007757161399, 66.66006686205886, 66.1498741305168, 105.04843839652045, 102.207103324726, 108.32928208659429, 102.7792159468596, 106.8515161926919, 53.19339828909132, 52.35245383039382, 44.247381069047144, 40.26373239772953, 50.08361976549149, 31.952333482680466, 28.621048283650207, 22.71171907585439, 27.06965924258074, 39.769997692108575, 21.699195970710182, 28.468017720376615], \"x\": [0, 1, 2, 3, 4, 5, 6, 7, 8, 9, 10, 11, 12, 13, 14, 15, 16, 17, 18, 19, 20, 21, 22, 23, 24, 25, 26, 27, 28, 29, 30, 31, 32, 33, 34, 35, 36, 37, 38, 39, 40, 41, 42, 43, 44, 45, 46, 47, 48, 49], \"line\": {\"width\": 1.3, \"dash\": \"solid\", \"color\": \"rgba(0, 128, 128, 1.0)\"}, \"text\": \"\", \"name\": \"1.8\", \"mode\": \"lines\"}], {\"paper_bgcolor\": \"#F5F6F9\", \"yaxis1\": {\"zerolinecolor\": \"#E1E5ED\", \"gridcolor\": \"#E1E5ED\", \"title\": \"\", \"tickfont\": {\"color\": \"#4D5663\"}, \"showgrid\": true, \"titlefont\": {\"color\": \"#4D5663\"}}, \"legend\": {\"font\": {\"color\": \"#4D5663\"}, \"bgcolor\": \"#F5F6F9\"}, \"plot_bgcolor\": \"#F5F6F9\", \"xaxis1\": {\"zerolinecolor\": \"#E1E5ED\", \"gridcolor\": \"#E1E5ED\", \"title\": \"\", \"tickfont\": {\"color\": \"#4D5663\"}, \"showgrid\": true, \"titlefont\": {\"color\": \"#4D5663\"}}, \"titlefont\": {\"color\": \"#4D5663\"}}, {\"linkText\": \"Export to plot.ly\", \"showLink\": true})});</script>"
      ],
      "text/vnd.plotly.v1+html": [
       "<div id=\"d3ef2808-20f0-4161-b1db-dfce723efbdc\" style=\"height: 525px; width: 100%;\" class=\"plotly-graph-div\"></div><script type=\"text/javascript\">require([\"plotly\"], function(Plotly) { window.PLOTLYENV=window.PLOTLYENV || {};window.PLOTLYENV.BASE_URL=\"https://plot.ly\";Plotly.newPlot(\"d3ef2808-20f0-4161-b1db-dfce723efbdc\", [{\"type\": \"scatter\", \"y\": [161.43469094814898, 148.01848716392868, 138.61760800914888, 113.10053848906041, 150.6877599961432, 90.10372700164216, 149.95989174595238, 132.39581891123174, 153.62388044534728, 154.38060445421232, 239.20198299760446, 152.03782776667188, 149.98923712914836, 145.67886124509621, 207.7277069561007, 168.33822410055836, 172.49252888990958, 147.8608102038559, 159.96430341766592, 198.4213042007605, 160.7669007120792, 229.8783443526329, 309.09128282249895, 375.6879117233028, 505.0509464213035, 454.72294500571604, 471.8208130927364, 398.56327081700925, 398.6545844805451, 487.97581170646964, 438.4684989186024, 424.5018593330742, 381.8675862014205, 330.05256249548876, 298.10285875112936, 318.0582914046786, 256.6145177370806, 291.45278783427904, 474.7453036756252, 613.084290383075, 625.1373894218392, 534.5456368618239, 473.6171764182978, 777.8706577989109, 843.3767036405843, 768.3652075257187, 863.1283216214547, 1571.6645575269606, 1734.177717697232, 2169.8863037125607], \"x\": [0, 1, 2, 3, 4, 5, 6, 7, 8, 9, 10, 11, 12, 13, 14, 15, 16, 17, 18, 19, 20, 21, 22, 23, 24, 25, 26, 27, 28, 29, 30, 31, 32, 33, 34, 35, 36, 37, 38, 39, 40, 41, 42, 43, 44, 45, 46, 47, 48, 49], \"line\": {\"width\": 1.3, \"dash\": \"solid\", \"color\": \"rgba(255, 153, 51, 1.0)\"}, \"text\": \"\", \"name\": \"0.8\", \"mode\": \"lines\"}, {\"type\": \"scatter\", \"y\": [115.59496219865886, 108.71189237926806, 79.63113951284677, 74.95840409225583, 73.76432331658911, 93.35241425624207, 127.95665615197049, 180.5724195887289, 207.77225578699534, 288.97748217285823, 239.31655971093963, 373.8964513359861, 462.2849806874192, 442.26812283787905, 542.6146030987917, 556.9644640580444, 837.4437290318543, 1423.6259029255139, 2987.2304825005567, 2019.2694381271426, 1344.5601037355893, 1205.0737715438945, 1332.62269446719, 1848.2105335214892, 2146.91177544804, 1190.7153406582224, 1136.239405375274, 1552.0127141185724, 1754.7299280951072, 2347.3430022912326, 2300.157777097299, 2269.34772337985, 2530.6807446283283, 3028.77440809647, 3390.1220693963446, 3700.6177590386606, 3146.899653175445, 3727.783733528803, 4072.8261821648734, 6119.689286637033, 9399.367952099325, 10477.122264901413, 9781.751194449856, 8402.541645425976, 10099.186847170864, 10879.844917962268, 10259.210708629185, 10934.932097286175, 9448.92485080701, 12386.882792313972], \"x\": [0, 1, 2, 3, 4, 5, 6, 7, 8, 9, 10, 11, 12, 13, 14, 15, 16, 17, 18, 19, 20, 21, 22, 23, 24, 25, 26, 27, 28, 29, 30, 31, 32, 33, 34, 35, 36, 37, 38, 39, 40, 41, 42, 43, 44, 45, 46, 47, 48, 49], \"line\": {\"width\": 1.3, \"dash\": \"solid\", \"color\": \"rgba(55, 128, 191, 1.0)\"}, \"text\": \"\", \"name\": \"1.0\", \"mode\": \"lines\"}, {\"type\": \"scatter\", \"y\": [86.79047020644477, 142.04797157509225, 170.2519061470674, 219.3187944070976, 148.86450371932042, 163.2548758833136, 222.36808510723608, 159.24280564574866, 148.02886623021578, 154.12803408005567, 94.13427871790037, 109.10566763914258, 154.688316332803, 114.80658731843589, 134.86465353495467, 84.29269170045937, 85.42264708308515, 47.5826764762794, 74.88973677233963, 89.94368027772819, 91.63765076714868, 70.22392530278955, 117.10201288857411, 254.0441548680096, 129.0827336383512, 212.20330745510282, 404.71974761769343, 473.17309211282543, 308.7003440301368, 440.53396996554784, 422.983483292182, 345.9040299577047, 223.04802855217108, 282.6760136957668, 392.741041345957, 318.7914703856463, 399.4473719429252, 266.0901061315272, 370.9695054191734, 388.30492140597926, 372.03675765113786, 368.11037170641293, 526.4213461257867, 719.7206323581283, 904.8607732432595, 980.4729186961897, 1038.5347111565006, 1350.4928483191459, 1516.939898200167, 2021.227759744206], \"x\": [0, 1, 2, 3, 4, 5, 6, 7, 8, 9, 10, 11, 12, 13, 14, 15, 16, 17, 18, 19, 20, 21, 22, 23, 24, 25, 26, 27, 28, 29, 30, 31, 32, 33, 34, 35, 36, 37, 38, 39, 40, 41, 42, 43, 44, 45, 46, 47, 48, 49], \"line\": {\"width\": 1.3, \"dash\": \"solid\", \"color\": \"rgba(50, 171, 96, 1.0)\"}, \"text\": \"\", \"name\": \"1.2\", \"mode\": \"lines\"}, {\"type\": \"scatter\", \"y\": [87.34585980564505, 29.78267975417076, 47.268034545404575, 124.71753096629466, 151.9348479005575, 145.63612041619683, 137.3736412151947, 130.581425952384, 131.85521432963924, 80.3960940088982, 64.07396490421391, 41.290626987943654, 46.190936951140294, 40.58729036748805, 50.63759939630281, 46.962526986343974, 72.82207867456995, 80.20249914077709, 211.96449613193641, 91.73133381520722, 69.02451927626775, 103.08635690209947, 316.3675148622102, 283.9588266542246, 290.0816219853242, 262.9512758908981, 475.0546945407451, 419.1518775308732, 567.5410509022046, 493.6026690387008, 281.559868768321, 324.1345138721031, 405.82742559666247, 720.8733864668764, 687.8470695795108, 524.3968232068067, 674.1102357420747, 751.4258282697627, 852.5469087330137, 827.0456216912258, 1385.1498976635216, 1634.5863279449495, 3806.149764250766, 6237.02862075612, 8366.851668513993, 4078.7068999860608, 5335.796200181678, 6439.848260554711, 9239.877130374001, 14701.107255730823], \"x\": [0, 1, 2, 3, 4, 5, 6, 7, 8, 9, 10, 11, 12, 13, 14, 15, 16, 17, 18, 19, 20, 21, 22, 23, 24, 25, 26, 27, 28, 29, 30, 31, 32, 33, 34, 35, 36, 37, 38, 39, 40, 41, 42, 43, 44, 45, 46, 47, 48, 49], \"line\": {\"width\": 1.3, \"dash\": \"solid\", \"color\": \"rgba(128, 0, 128, 1.0)\"}, \"text\": \"\", \"name\": \"1.4\", \"mode\": \"lines\"}, {\"type\": \"scatter\", \"y\": [79.38743306081747, 117.12685888539696, 85.69127972735463, 224.04565080912877, 111.04434981906128, 44.30439549626703, 18.68792617292171, 11.580101202185359, 6.392053841285331, 16.7226145936873, 13.784776618137196, 6.795214776088235, 11.612206134291734, 8.39214836282575, 4.364452455911323, 6.610346557343521, 8.811301574717191, 6.875487561711583, 13.628016722594957, 14.146235319058482, 31.173472991984912, 39.09272976365218, 83.64960122005878, 85.96932380134982, 45.09824171601236, 151.43199724007962, 111.71984432679531, 98.23764208800905, 67.02145119990786, 58.79767890761388, 64.64330124434287, 69.6166229747309, 94.58095408948748, 227.74450844591766, 208.36130910846228, 108.56601391379938, 58.04087474664781, 40.297901552442084, 16.79726166090173, 24.795237984921602, 18.7383697213488, 15.568131037418196, 15.123788771405719, 7.254548623869773, 4.562328963566413, 6.241454575889334, 8.29930732385783, 6.449114438287765, 15.674090819565068, 7.872358583652502], \"x\": [0, 1, 2, 3, 4, 5, 6, 7, 8, 9, 10, 11, 12, 13, 14, 15, 16, 17, 18, 19, 20, 21, 22, 23, 24, 25, 26, 27, 28, 29, 30, 31, 32, 33, 34, 35, 36, 37, 38, 39, 40, 41, 42, 43, 44, 45, 46, 47, 48, 49], \"line\": {\"width\": 1.3, \"dash\": \"solid\", \"color\": \"rgba(219, 64, 82, 1.0)\"}, \"text\": \"\", \"name\": \"1.6\", \"mode\": \"lines\"}, {\"type\": \"scatter\", \"y\": [77.23092991796304, 63.650280893944625, 12.20141445912179, 34.55017513642864, 40.002120192182055, 20.745757284465142, 62.67045657149411, 82.20817948740708, 98.66648942900295, 65.64331869232402, 65.54250466983103, 25.848857377171385, 38.19876496424483, 29.01082849784993, 29.428709983254887, 54.827525092254135, 60.59872278547982, 66.13333330682019, 72.75219440404611, 45.04552094810711, 68.13804928291907, 154.16619218117015, 223.17382324397798, 347.1128252130059, 198.00503843124022, 113.56090832779661, 47.00144373236787, 89.0848301304018, 72.45077358766454, 151.06534432969158, 90.98007757161399, 66.66006686205886, 66.1498741305168, 105.04843839652045, 102.207103324726, 108.32928208659429, 102.7792159468596, 106.8515161926919, 53.19339828909132, 52.35245383039382, 44.247381069047144, 40.26373239772953, 50.08361976549149, 31.952333482680466, 28.621048283650207, 22.71171907585439, 27.06965924258074, 39.769997692108575, 21.699195970710182, 28.468017720376615], \"x\": [0, 1, 2, 3, 4, 5, 6, 7, 8, 9, 10, 11, 12, 13, 14, 15, 16, 17, 18, 19, 20, 21, 22, 23, 24, 25, 26, 27, 28, 29, 30, 31, 32, 33, 34, 35, 36, 37, 38, 39, 40, 41, 42, 43, 44, 45, 46, 47, 48, 49], \"line\": {\"width\": 1.3, \"dash\": \"solid\", \"color\": \"rgba(0, 128, 128, 1.0)\"}, \"text\": \"\", \"name\": \"1.8\", \"mode\": \"lines\"}], {\"paper_bgcolor\": \"#F5F6F9\", \"yaxis1\": {\"zerolinecolor\": \"#E1E5ED\", \"gridcolor\": \"#E1E5ED\", \"title\": \"\", \"tickfont\": {\"color\": \"#4D5663\"}, \"showgrid\": true, \"titlefont\": {\"color\": \"#4D5663\"}}, \"legend\": {\"font\": {\"color\": \"#4D5663\"}, \"bgcolor\": \"#F5F6F9\"}, \"plot_bgcolor\": \"#F5F6F9\", \"xaxis1\": {\"zerolinecolor\": \"#E1E5ED\", \"gridcolor\": \"#E1E5ED\", \"title\": \"\", \"tickfont\": {\"color\": \"#4D5663\"}, \"showgrid\": true, \"titlefont\": {\"color\": \"#4D5663\"}}, \"titlefont\": {\"color\": \"#4D5663\"}}, {\"linkText\": \"Export to plot.ly\", \"showLink\": true})});</script>"
      ]
     },
     "metadata": {},
     "output_type": "display_data"
    }
   ],
   "source": [
    "iplot(x.iplot(kind='scatter', asFigure=True))"
   ]
  },
  {
   "cell_type": "code",
   "execution_count": 6,
   "metadata": {
    "collapsed": true
   },
   "outputs": [],
   "source": [
    "class PRNG(object):\n",
    "    def __init__(self, seed):\n",
    "        self._x = seed\n",
    "    def __call__(self):\n",
    "        return self._x"
   ]
  },
  {
   "cell_type": "code",
   "execution_count": 7,
   "metadata": {
    "collapsed": true
   },
   "outputs": [],
   "source": [
    "class MCL_PRNG(PRNG):\n",
    "    def __init__(self, seed):\n",
    "        super().__init__(seed)\n",
    "    def __call__(self):\n",
    "        self._x = ((2**18+1)*self._x+1)%(2**35)\n",
    "        return self._x/(2**35)"
   ]
  },
  {
   "cell_type": "code",
   "execution_count": 8,
   "metadata": {
    "collapsed": true
   },
   "outputs": [],
   "source": [
    "mlc = MCL_PRNG(212)"
   ]
  },
  {
   "cell_type": "code",
   "execution_count": 9,
   "metadata": {},
   "outputs": [
    {
     "data": {
      "text/plain": [
       "0.0016174378397408873"
      ]
     },
     "execution_count": 9,
     "metadata": {},
     "output_type": "execute_result"
    }
   ],
   "source": [
    "mlc()"
   ]
  },
  {
   "cell_type": "code",
   "execution_count": 10,
   "metadata": {},
   "outputs": [
    {
     "name": "stdout",
     "output_type": "stream",
     "text": [
      "Intervalo: [ -11 , 13 ]\n",
      "Números de Elementos: 25\n",
      "Tamanho do Intervalo: 1.0\n"
     ]
    }
   ],
   "source": [
    "number = 10**4\n",
    "c = 1\n",
    "# os comprimentos de l e n, foram escolhidos de forma que o tamanho do intervalo seja 1.0\n",
    "l = 3\n",
    "n = 25\n",
    "iopen = c - 4*l\n",
    "iclose = c + 4*l\n",
    "print(\"Intervalo: [\",iopen,\",\",iclose,\"]\")\n",
    "print(\"Números de Elementos:\",iclose-iopen+1)\n",
    "print(\"Tamanho do Intervalo:\",float((iclose-iopen+1)/n))"
   ]
  },
  {
   "cell_type": "code",
   "execution_count": 11,
   "metadata": {
    "collapsed": true
   },
   "outputs": [],
   "source": [
    "box = np.zeros(n)\n",
    "points = np.zeros(n)\n",
    "points = np.array([-10.5 + i for i in range(0,n)])"
   ]
  },
  {
   "cell_type": "code",
   "execution_count": 12,
   "metadata": {
    "collapsed": true
   },
   "outputs": [],
   "source": [
    "i = 0\n",
    "while(i < number):\n",
    "    alpha = np.random.normal(c, l)\n",
    "    if iopen <= alpha <= iclose:\n",
    "        box[int(alpha+11)] += 1\n",
    "        i += 1"
   ]
  },
  {
   "cell_type": "code",
   "execution_count": 13,
   "metadata": {},
   "outputs": [
    {
     "data": {
      "image/png": "[encoded data removed]",
      "text/plain": [
       "<matplotlib.figure.Figure at 0x7f0b58484b00>"
      ]
     },
     "metadata": {},
     "output_type": "display_data"
    }
   ],
   "source": [
    "plt.bar(points, box)\n",
    "plt.show()"
   ]
  },
  {
   "cell_type": "code",
   "execution_count": 14,
   "metadata": {
    "collapsed": true
   },
   "outputs": [],
   "source": [
    "box = np.zeros(n)\n",
    "points = np.zeros(n)\n",
    "points = np.array([-10.5 + i for i in range(0,n)])"
   ]
  },
  {
   "cell_type": "code",
   "execution_count": 15,
   "metadata": {
    "collapsed": true
   },
   "outputs": [],
   "source": [
    "i = 0\n",
    "while(i < number):\n",
    "    alpha = np.random.poisson(c)\n",
    "    if iopen <= alpha <= iclose:\n",
    "        box[int(alpha+11)] += 1\n",
    "        i += 1"
   ]
  },
  {
   "cell_type": "code",
   "execution_count": 16,
   "metadata": {},
   "outputs": [
    {
     "data": {
      "image/png": "[encoded data removed]",
      "text/plain": [
       "<matplotlib.figure.Figure at 0x7f0b584845f8>"
      ]
     },
     "metadata": {},
     "output_type": "display_data"
    }
   ],
   "source": [
    "plt.bar(points, box)\n",
    "plt.show()"
   ]
  },
  {
   "cell_type": "code",
   "execution_count": 17,
   "metadata": {
    "collapsed": true
   },
   "outputs": [],
   "source": [
    "box = np.zeros(n)\n",
    "points = np.zeros(n)\n",
    "points = np.array([-10.5 + i for i in range(0,n)])"
   ]
  },
  {
   "cell_type": "code",
   "execution_count": 18,
   "metadata": {
    "collapsed": true
   },
   "outputs": [],
   "source": [
    "def weib(x,n,a):\n",
    "    return (a / n) * (x / n)**(a - 1) * np.exp(-(x / n)**a)\n",
    "\n",
    "i = 0\n",
    "while(i < number):\n",
    "    alpha = np.random.weibull(c)\n",
    "    if iopen <= alpha <= iclose:\n",
    "        box[int(alpha+11)] += 1\n",
    "        i += 1"
   ]
  },
  {
   "cell_type": "code",
   "execution_count": 19,
   "metadata": {},
   "outputs": [
    {
     "data": {
      "image/png": "[encoded data removed]",
      "text/plain": [
       "<matplotlib.figure.Figure at 0x7f0b58427198>"
      ]
     },
     "metadata": {},
     "output_type": "display_data"
    }
   ],
   "source": [
    "plt.bar(points, box)\n",
    "plt.plot(points, weib(points, 1., c)*(box.max()/weib(points, 1., c).max()))\n",
    "plt.show()"
   ]
  },
  {
   "cell_type": "code",
   "execution_count": 20,
   "metadata": {
    "collapsed": true
   },
   "outputs": [],
   "source": [
    "box = np.zeros(n)\n",
    "points = np.zeros(n)\n",
    "points = np.array([-10.5 + i for i in range(0,n)])"
   ]
  },
  {
   "cell_type": "code",
   "execution_count": 21,
   "metadata": {
    "collapsed": true
   },
   "outputs": [],
   "source": [
    "i = 0\n",
    "while(i < number):\n",
    "    alpha = np.random.lognormal(c, l)\n",
    "    if iopen <= alpha <= iclose:\n",
    "        box[int(alpha+11)] += 1\n",
    "        i += 1"
   ]
  },
  {
   "cell_type": "code",
   "execution_count": 22,
   "metadata": {},
   "outputs": [
    {
     "data": {
      "image/png": "[encoded data removed]",
      "text/plain": [
       "<matplotlib.figure.Figure at 0x7f0b58497e10>"
      ]
     },
     "metadata": {},
     "output_type": "display_data"
    }
   ],
   "source": [
    "plt.bar(points, box)\n",
    "plt.show()"
   ]
  },
  {
   "cell_type": "code",
   "execution_count": 23,
   "metadata": {
    "collapsed": true
   },
   "outputs": [],
   "source": [
    "pdf = (np.exp(-(np.log(x) - mu)**2 / (2 * sigma**2))    / (x * sigma * np.sqrt(2 * np.pi)))"
   ]
  }
 ],
 "metadata": {
  "kernelspec": {
   "display_name": "Python 3",
   "language": "python",
   "name": "python3"
  },
  "language_info": {
   "codemirror_mode": {
    "name": "ipython",
    "version": 3
   },
   "file_extension": ".py",
   "mimetype": "text/x-python",
   "name": "python",
   "nbconvert_exporter": "python",
   "pygments_lexer": "ipython3",
   "version": "3.4.8"
  }
 },
 "nbformat": 4,
 "nbformat_minor": 2
}
